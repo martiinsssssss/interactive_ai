{
 "cells": [
  {
   "cell_type": "code",
   "execution_count": 21,
   "metadata": {},
   "outputs": [],
   "source": [
    "import torch\n",
    "import torchvision\n",
    "from torchvision.models.detection import keypointrcnn_resnet50_fpn\n",
    "import torch\n",
    "from torchvision.models.detection import keypointrcnn_resnet50_fpn\n",
    "from torchvision.transforms import functional as F\n",
    "from PIL import Image\n",
    "import os\n",
    "import json\n",
    "import matplotlib.pyplot as plt\n",
    "import matplotlib.patches as patches\n",
    "import numpy as np\n",
    "import cv2"
   ]
  },
  {
   "cell_type": "code",
   "execution_count": 19,
   "metadata": {},
   "outputs": [
    {
     "name": "stdout",
     "output_type": "stream",
     "text": [
      "2.1.0\n"
     ]
    }
   ],
   "source": [
    "print(torch.__version__)\n",
    "model = keypointrcnn_resnet50_fpn(pretrained=True)"
   ]
  },
  {
   "cell_type": "code",
   "execution_count": null,
   "metadata": {},
   "outputs": [],
   "source": [
    "input_dir = \"heatmaps/dataset/train\"\n",
    "output_json = \"heatmaps/dataset/annotations/keypoints_train.json\"\n",
    "visualize = False\n",
    "MIN_SCORE = 0.8 \n",
    "\n",
    "\n",
    "device = torch.device(\"cuda\" if torch.cuda.is_available() else \"cpu\")\n",
    "\n",
    "model.eval()\n",
    "\n",
    "os.makedirs(os.path.dirname(output_json), exist_ok=True)\n",
    "\n",
    "#Dictionary with the annotations (keypoints) for each image\n",
    "annotations = {}\n",
    "\n",
    "for filename in os.listdir(input_dir):\n",
    "    if filename.lower().endswith((\".jpg\", \".png\")):\n",
    "        path = os.path.join(input_dir, filename)\n",
    "        img = Image.open(path).convert(\"RGB\")\n",
    "        img_tensor = F.to_tensor(img).unsqueeze(0).to(device)\n",
    "\n",
    "        with torch.no_grad():\n",
    "            output = model(img_tensor)[0]\n",
    "\n",
    "        keypoints_all = []\n",
    "        for i in range(len(output[\"keypoints\"])):\n",
    "            score = output[\"scores\"][i].item()\n",
    "            if score >= MIN_SCORE:\n",
    "                kp = output[\"keypoints\"][i][:, :2].cpu().numpy().tolist()\n",
    "                keypoints_all.append([[int(x), int(y)] for x, y in kp])\n",
    "\n",
    "        annotations[filename] = {\"keypoints\": keypoints_all}\n",
    "\n",
    "        if visualize:\n",
    "            fig, ax = plt.subplots(1)\n",
    "            ax.imshow(img)\n",
    "            colors = ['r', 'g', 'b', 'y', 'c', 'm']\n",
    "            for idx, person in enumerate(keypoints_all):\n",
    "                for x, y in person:\n",
    "                    ax.add_patch(patches.Circle((x, y), 3, color=colors[idx % len(colors)]))\n",
    "            ax.set_title(filename)\n",
    "            plt.axis(\"off\")\n",
    "            plt.show()\n",
    "\n",
    "#Save the keypoints\n",
    "with open(output_json, \"w\") as f:\n",
    "    json.dump(annotations, f, indent=2)\n"
   ]
  },
  {
   "cell_type": "code",
   "execution_count": 22,
   "metadata": {},
   "outputs": [],
   "source": [
    "def generate_combined_heatmap(image_shape, keypoints, sigma=20):\n",
    "    heatmap = np.zeros(image_shape, dtype=np.float32)\n",
    "    for x, y in keypoints:\n",
    "        if x < 0 or y < 0 or x >= image_shape[1] or y >= image_shape[0]:\n",
    "            continue\n",
    "        temp = np.zeros(image_shape, dtype=np.float32)\n",
    "        temp[int(y), int(x)] = 1\n",
    "        temp = cv2.GaussianBlur(temp, (0, 0), sigma)\n",
    "        temp = temp / temp.max()\n",
    "        heatmap += temp\n",
    "    return np.clip(heatmap, 0, 1)\n",
    "\n",
    "def overlay_and_save_heatmap(image_path, heatmap, output_path, alpha=0.5):\n",
    "    img = Image.open(image_path).convert(\"RGB\")\n",
    "    img_np = np.array(img).astype(np.float32) / 255.0\n",
    "\n",
    "    heatmap_resized = cv2.resize(heatmap, (img_np.shape[1], img_np.shape[0]))\n",
    "    heatmap_color = cv2.applyColorMap(np.uint8(255 * heatmap_resized), cv2.COLORMAP_JET)\n",
    "    heatmap_color = cv2.cvtColor(heatmap_color, cv2.COLOR_BGR2RGB) / 255.0\n",
    "\n",
    "    overlay = (1 - alpha) * img_np + alpha * heatmap_color\n",
    "    overlay = np.clip(overlay, 0, 1)\n",
    "\n",
    "    plt.imsave(output_path, overlay)"
   ]
  },
  {
   "cell_type": "code",
   "execution_count": 25,
   "metadata": {},
   "outputs": [],
   "source": [
    "def process_dataset(images_folder, annotation_path, output_folder, sigma=20):\n",
    "    os.makedirs(output_folder, exist_ok=True)\n",
    "\n",
    "    with open(annotation_path, 'r') as f:\n",
    "        annotations = json.load(f)\n",
    "\n",
    "    for image_name, data in annotations.items():\n",
    "        keypoints_nested = data[\"keypoints\"]\n",
    "        keypoints = [kp for person in keypoints_nested for kp in person]\n",
    "\n",
    "        image_path = os.path.join(images_folder, image_name)\n",
    "\n",
    "        try:\n",
    "            with Image.open(image_path) as img:\n",
    "                img = img.convert(\"RGB\")\n",
    "                image_shape = img.size[::-1]  # (height, width)\n",
    "\n",
    "                heatmap = generate_combined_heatmap(image_shape, keypoints, sigma)\n",
    "\n",
    "                # Save raw .npy heatmap\n",
    "                npy_path = os.path.join(output_folder, image_name.replace('.png', '_heatmap.npy'))\n",
    "                np.save(npy_path, heatmap)\n",
    "\n",
    "                # Save overlay as image\n",
    "                overlay_path = os.path.join(output_folder, image_name.replace('.png', '_overlay.png'))\n",
    "                overlay_and_save_heatmap(image_path, heatmap, overlay_path)\n",
    "\n",
    "        except FileNotFoundError:\n",
    "            print(f\"Image not found: {image_path}\")\n",
    "\n",
    "    print(f\"✔ All heatmaps saved in: {output_folder}\")"
   ]
  },
  {
   "cell_type": "code",
   "execution_count": 27,
   "metadata": {},
   "outputs": [],
   "source": [
    "process_dataset(\n",
    "    images_folder=\"heatmaps/dataset/train/\",\n",
    "    annotation_path=\"heatmaps/dataset/annotations/keypoints_train.json\",\n",
    "    output_folder=\"heatmaps/dataset/heatmaps\",\n",
    "    sigma=20 \n",
    ")"
   ]
  }
 ],
 "metadata": {
  "kernelspec": {
   "display_name": "tfg_env",
   "language": "python",
   "name": "python3"
  },
  "language_info": {
   "codemirror_mode": {
    "name": "ipython",
    "version": 3
   },
   "file_extension": ".py",
   "mimetype": "text/x-python",
   "name": "python",
   "nbconvert_exporter": "python",
   "pygments_lexer": "ipython3",
   "version": "3.10.16"
  }
 },
 "nbformat": 4,
 "nbformat_minor": 2
}
