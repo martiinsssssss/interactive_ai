{
 "cells": [
  {
   "cell_type": "markdown",
   "metadata": {},
   "source": [
    "# **Data Augmentation**"
   ]
  },
  {
   "cell_type": "code",
   "execution_count": 21,
   "metadata": {},
   "outputs": [],
   "source": [
    "import os\n",
    "import cv2\n",
    "import numpy as np\n",
    "import albumentations as A\n",
    "import random\n",
    "import shutil\n",
    "import matplotlib as plt"
   ]
  },
  {
   "cell_type": "code",
   "execution_count": 22,
   "metadata": {},
   "outputs": [],
   "source": [
    "original_dir = \"dataset/original\"\n",
    "train_dir = \"dataset/train\"\n",
    "test_dir = \"dataset/test\"\n",
    "\n",
    "os.makedirs(\"dataset\", exist_ok=True)\n",
    "os.makedirs(original_dir, exist_ok=True)\n",
    "os.makedirs(train_dir, exist_ok=True)\n",
    "os.makedirs(test_dir, exist_ok=True)\n",
    "\n",
    "\n",
    "original_files = [f for f in os.listdir(original_dir) if f.lower().endswith(\".png\")]\n",
    "random.shuffle(original_files)\n",
    "\n",
    "split_idx = int(0.8 * len(original_files))\n",
    "train_files = original_files[:split_idx]\n",
    "test_files = original_files[split_idx:]\n",
    "\n",
    "#Divide the original images in training and test set\n",
    "for f in train_files:\n",
    "    shutil.copy(os.path.join(original_dir, f), os.path.join(train_dir, f))\n",
    "for f in test_files:\n",
    "    shutil.copy(os.path.join(original_dir, f), os.path.join(test_dir, f))"
   ]
  },
  {
   "cell_type": "code",
   "execution_count": 24,
   "metadata": {},
   "outputs": [],
   "source": [
    "\n",
    "train_dir = \"dataset/train\"  # or \"heatmaps/dataset/train\"\n",
    "valid_exts = ('.jpg', '.jpeg', '.png')\n",
    "image_files = [f for f in os.listdir(train_dir) if f.lower().endswith(valid_exts)]\n",
    "\n",
    "#Transformations\n",
    "transformations = {\n",
    "    #Basic\n",
    "    \"rotated\": A.Rotate(limit=60, p=1.0),\n",
    "    \"shift_scale_rotate\": A.ShiftScaleRotate(shift_limit=0.1, scale_limit=0.2, rotate_limit=20, p=1.0),\n",
    "    \"flipped\": A.HorizontalFlip(p=1.0),\n",
    "    \"brightness_contrast\": A.RandomBrightnessContrast(brightness_limit=0.5, contrast_limit=0.5, p=1.0),\n",
    "    \"hue_shift\": A.HueSaturationValue(hue_shift_limit=40, sat_shift_limit=50, val_shift_limit=40, p=1.0),\n",
    "    \"gamma\": A.RandomGamma(gamma_limit=(60, 140), p=1.0),\n",
    "    \"rgb_shift\": A.RGBShift(r_shift_limit=40, g_shift_limit=40, b_shift_limit=40, p=1.0),\n",
    "    \"clahe\": A.CLAHE(clip_limit=8.0, tile_grid_size=(8,8), p=1.0),\n",
    "    \n",
    "    #Combination\n",
    "    \"flip_contrast\": A.Compose([\n",
    "        A.HorizontalFlip(p=1.0),\n",
    "        A.RandomBrightnessContrast(brightness_limit=0.3, contrast_limit=0.3, p=1.0)\n",
    "    ]),\n",
    "    \"rotate_hue\": A.Compose([\n",
    "        A.Rotate(limit=25, p=1.0),\n",
    "        A.HueSaturationValue(hue_shift_limit=15, sat_shift_limit=25, val_shift_limit=15, p=1.0)\n",
    "    ]),\n",
    "    \"shift_gamma_rgb\": A.Compose([\n",
    "        A.ShiftScaleRotate(shift_limit=0.03, scale_limit=0.05, rotate_limit=10, p=1.0),\n",
    "        A.RandomGamma(gamma_limit=(80, 120), p=1.0),\n",
    "        A.RGBShift(r_shift_limit=15, g_shift_limit=15, b_shift_limit=15, p=1.0)\n",
    "    ])\n",
    "}\n",
    "\n",
    "\n",
    "for filename in image_files:\n",
    "    #print(filename)\n",
    "    img_path = os.path.join(train_dir, filename)\n",
    "    image = cv2.imread(img_path)\n",
    "    if image is None:\n",
    "        print(f\"Skipping unreadable file: {filename}\")\n",
    "        continue\n",
    "\n",
    "    name, ext = os.path.splitext(filename)\n",
    "\n",
    "    for aug_name, aug in transformations.items():\n",
    "        augmented = aug(image=image)[\"image\"]\n",
    "        output_name = f\"{name}_{aug_name}{ext}\"\n",
    "        output_path = os.path.join(train_dir, output_name)\n",
    "        cv2.imwrite(output_path, augmented)"
   ]
  }
 ],
 "metadata": {
  "kernelspec": {
   "display_name": "Python 3",
   "language": "python",
   "name": "python3"
  },
  "language_info": {
   "codemirror_mode": {
    "name": "ipython",
    "version": 3
   },
   "file_extension": ".py",
   "mimetype": "text/x-python",
   "name": "python",
   "nbconvert_exporter": "python",
   "pygments_lexer": "ipython3",
   "version": "3.10.16"
  }
 },
 "nbformat": 4,
 "nbformat_minor": 2
}
